{
 "cells": [
  {
   "cell_type": "code",
   "execution_count": null,
   "metadata": {},
   "outputs": [],
   "source": [
    "import requests as r\n",
    "import re\n",
    "import os\n",
    "import logging\n",
    "from datetime import datetime, timedelta\n",
    "from dotenv import load_dotenv\n",
    "import logging\n",
    "from shapely import from_wkt\n",
    "from shapely.geometry import Polygon, MultiPolygon"
   ]
  },
  {
   "cell_type": "code",
   "execution_count": null,
   "metadata": {},
   "outputs": [
    {
     "data": {
      "text/plain": [
       "True"
      ]
     },
     "metadata": {},
     "output_type": "display_data"
    }
   ],
   "source": [
    "load_dotenv()"
   ]
  },
  {
   "cell_type": "code",
   "execution_count": null,
   "metadata": {},
   "outputs": [],
   "source": [
    "def get_access_token(client_id: str, client_secret: str) -> str:\n",
    "    '''\n",
    "    Supplies a temporary access token for of the OS NGD API\n",
    "    Times out after 5 minutes\n",
    "    Takes the project client_id and client_secret as input\n",
    "    '''\n",
    "\n",
    "    url = \"https://api.os.uk/oauth2/token/v1\"\n",
    "\n",
    "    data = {\n",
    "        \"grant_type\": \"client_credentials\"\n",
    "    }\n",
    "\n",
    "    response = r.post(\n",
    "        url, \n",
    "        auth=(client_id, client_secret),\n",
    "        data=data\n",
    "    )\n",
    "\n",
    "    json_response = response.json()\n",
    "    if response.status_code >= 400:\n",
    "        raise Exception(json_response)\n",
    "    token = json_response[\"access_token\"]\n",
    "\n",
    "    return token"
   ]
  },
  {
   "cell_type": "code",
   "execution_count": null,
   "metadata": {},
   "outputs": [],
   "source": [
    "def OAauth2Manager(func: callable):\n",
    "\n",
    "    def wrapper(*args, **kwargs):\n",
    "        try:\n",
    "            return func(*args, **kwargs)\n",
    "        except Exception:\n",
    "            client_id = os.environ.get('CLIENT_ID')\n",
    "            client_secret = os.environ.get('CLIENT_SECRET')\n",
    "            access_token = get_access_token(\n",
    "                client_id=client_id,\n",
    "                client_secret=client_secret\n",
    "            )\n",
    "            kwargs['access_token'] = access_token\n",
    "            return func(*args, **kwargs)\n",
    "\n",
    "    return wrapper"
   ]
  },
  {
   "cell_type": "code",
   "execution_count": null,
   "metadata": {},
   "outputs": [],
   "source": [
    "def generic_request(url: str, headers: dict = {}, access_token: str = None, **kwargs) -> dict:\n",
    "\n",
    "    if access_token:\n",
    "        headers['Authorization'] = f\"Bearer {access_token}\"\n",
    "    response = r.get(url, headers=headers, **kwargs)\n",
    "    json_response = response.json()\n",
    "    if response.status_code >= 400:\n",
    "        raise Exception(json_response)\n",
    "\n",
    "    return json_response"
   ]
  },
  {
   "cell_type": "code",
   "execution_count": null,
   "metadata": {},
   "outputs": [],
   "source": [
    "def construct_query_params(**kwargs) -> str:\n",
    "    '''\n",
    "    Constructs a query string from a dictionary of key-value pairs.\n",
    "    Refer to https://osdatahub.os.uk/docs/ofa/technicalSpecification for details about query parameters.\n",
    "    The options are:\n",
    "        - bbox\n",
    "        - bbox-crs\n",
    "        - crs\n",
    "        - datetime\n",
    "        - filter\n",
    "        - filter-crs\n",
    "        - filter-lang\n",
    "        - limit\n",
    "        - offset\n",
    "    '''\n",
    "    params_list = [f'{k}={v}' for k, v in kwargs.items()]\n",
    "    return '?' + '&'.join(params_list)"
   ]
  },
  {
   "cell_type": "code",
   "execution_count": null,
   "metadata": {},
   "outputs": [],
   "source": [
    "def wkt_to_spatial_filter(wkt):\n",
    "    return f'(INTERSECTS(geometry,{wkt}))'"
   ]
  },
  {
   "cell_type": "code",
   "execution_count": null,
   "metadata": {},
   "outputs": [],
   "source": [
    "def construct_filter_param(**kwargs):\n",
    "    for k, v in kwargs.items():\n",
    "        if type(v) == str:\n",
    "            kwargs[k] = f\"'{v}'\"\n",
    "    filter_list = [f\"({k}={v})\" for k, v in kwargs.items()]\n",
    "    return 'and'.join(filter_list)"
   ]
  },
  {
   "cell_type": "code",
   "execution_count": null,
   "metadata": {},
   "outputs": [],
   "source": [
    "def ngd_items_request(\n",
    "    collection: str,\n",
    "    query_params: dict = {},\n",
    "    filter_params: dict = {},\n",
    "    headers: dict = {},\n",
    "    access_token: str = None,\n",
    "    **kwargs\n",
    ") -> dict:\n",
    "    \n",
    "    filter_params = filter_params.copy()\n",
    "    query_params = query_params.copy()\n",
    "\n",
    "    if filter_params:\n",
    "        filters = construct_filter_param(**filter_params)\n",
    "        current_filters = query_params.get('filter')\n",
    "        query_params['filter'] = f'({current_filters})and{filters}' if current_filters else filters\n",
    "\n",
    "    wkt = kwargs.get('wkt')\n",
    "    del kwargs['wkt']\n",
    "    if wkt:\n",
    "        spatial_filter = wkt_to_spatial_filter(wkt)\n",
    "        current_filters = query_params.get('filter')\n",
    "        query_params['filter'] = f'({current_filters})and{spatial_filter}' if current_filters else spatial_filter\n",
    "\n",
    "\n",
    "    query_params_string = construct_query_params(**query_params)\n",
    "    url = f'https://api.os.uk/features/ngd/ofa/v1/collections/{collection}/items/{query_params_string}'\n",
    "    print(url)\n",
    "\n",
    "    if access_token:\n",
    "        headers['Authorization'] = f\"Bearer {access_token}\"\n",
    "    response = r.get(url, headers=headers, **kwargs)\n",
    "    json_response = response.json()\n",
    "\n",
    "    if response.status_code >= 400:\n",
    "        raise Exception(json_response)\n",
    "\n",
    "    return json_response"
   ]
  },
  {
   "cell_type": "code",
   "execution_count": null,
   "metadata": {},
   "outputs": [],
   "source": [
    "def get_latest_collection_versions(flag_recent_updates: bool = True, recent_update_days: int = 31) -> tuple[dict[str: str], list[str]]:\n",
    "    '''\n",
    "    Returns the latest collection versions of each NGD collection.\n",
    "    Feature collections follow the following naming convention: theme-collection-featuretype-version (eg. bld-fts-buildingline-2)\n",
    "    The output of this function maps base feature collection names (theme-collection-featuretype) to the full name, including the latest version.\n",
    "    This can be used to ensure that software is always using the latest version of a feature collection.\n",
    "    More details on feature collection naming can be found at https://docs.os.uk/osngd/accessing-os-ngd/access-the-os-ngd-api/os-ngd-api-features/what-data-is-available\n",
    "    '''\n",
    "    response = r.get('https://api.os.uk/features/ngd/ofa/v1/collections/')\n",
    "    collections_data = response.json()['collections']\n",
    "    collections_list = [collection['id'] for collection in collections_data]\n",
    "    collection_base_names = set([re.sub(r'-\\d+$', '', c) for c in collections_list])\n",
    "    output_lookup = dict()\n",
    "    for base_name in collection_base_names:\n",
    "        all_versions = [c for c in collections_list if c.startswith(base_name)]\n",
    "        latest_version = max(all_versions, key=lambda c: int(c.split('-')[-1]))\n",
    "        output_lookup[base_name] = latest_version\n",
    "    recent_collections = None\n",
    "    if flag_recent_updates:\n",
    "        time_format = r'%Y-%m-%dT%H:%M:%SZ'\n",
    "        recent_update_cutoff = datetime.now() - timedelta(days=recent_update_days)\n",
    "        latest_versions_data = [c for c in collections_data if c['id'] in output_lookup.values()]\n",
    "        recent_collections = list()\n",
    "        for collection_data in latest_versions_data:\n",
    "            version_startdate = collection_data['extent']['temporal']['interval'][0][0]\n",
    "            time_obj = datetime.strptime(version_startdate, time_format)\n",
    "            if time_obj > recent_update_cutoff:\n",
    "                collection = collection_data['id']\n",
    "                recent_collections.append(collection)\n",
    "                logging.warning(f'{collection} is a recent version/update from the last {recent_update_days} days.')\n",
    "    return output_lookup, recent_collections"
   ]
  },
  {
   "cell_type": "code",
   "execution_count": null,
   "metadata": {},
   "outputs": [],
   "source": [
    "def get_single_latest_collection(collection: str, **kwargs) -> str:\n",
    "    '''\n",
    "    Returns the latest collection of a given collection base.\n",
    "    Input must be in the format theme-collection-featuretype (eg. bld-fts-buildingline)\n",
    "    Output will complete the full name of the feature collection by appending the latest version number (eg. bld-fts-buildingline-2)\n",
    "    More details on feature collection naming can be found at https://docs.os.uk/osngd/accessing-os-ngd/access-the-os-ngd-api/os-ngd-api-features/what-data-is-available\n",
    "    '''\n",
    "    latest_collections = get_latest_collection_versions(**kwargs)\n",
    "    latest_collection = latest_collections[collection]\n",
    "    return latest_collection"
   ]
  },
  {
   "cell_type": "code",
   "execution_count": null,
   "metadata": {},
   "outputs": [],
   "source": [
    "def call_multiple_collections(collections: list[str], **kwargs) -> dict[str: dict]:\n",
    "    results = dict()\n",
    "    for c in collections:\n",
    "        json_response = ngd_items_request(c, **kwargs)\n",
    "        results[c] = json_response\n",
    "    return results"
   ]
  },
  {
   "cell_type": "code",
   "execution_count": null,
   "metadata": {},
   "outputs": [],
   "source": [
    "def multiple_collections_extension(func: callable, collections: list[str], **kwargs) -> dict:\n",
    "\n",
    "    def wrapper():\n",
    "        results = dict()\n",
    "        for c in collections:\n",
    "            json_response = func(c, **kwargs)\n",
    "            results[c] = json_response\n",
    "        return results\n",
    "\n",
    "    return wrapper()"
   ]
  },
  {
   "cell_type": "markdown",
   "metadata": {},
   "source": [
    "We need a bunch of functional working APIs\n",
    "We need training API calls\n",
    "We need API calls in agnostic approach\n",
    "CSV of API calls"
   ]
  },
  {
   "cell_type": "code",
   "execution_count": null,
   "metadata": {},
   "outputs": [],
   "source": [
    "def feature_limit_extension(func: callable):\n",
    "    f\"\"\"\n",
    "    This is an extension of functions returning ngd features. It serves to extend the maximum number of features returned above the default maximum 100 by looping through multiple requests.\n",
    "    It takes the following arguments:\n",
    "    - collection: The name of the collection to be queried.\n",
    "    - request_limit: The maximum number of requests to be made function. Default is 50.\n",
    "    - feature_limit: The maximum number of features to be returned. Default is None.\n",
    "    - query_params: A dictionary of query parameters to be passed to the function. Default is an empty dictionary.\n",
    "    To prevent indefinite requests and high costs, at least one of feature_limit or request_limit must be provided, although there is no limit to the upper value these can be.\n",
    "    It will make multiple requests to the function to compile all features from the specified collection, returning a dictionary with the features and metadata.\n",
    "    \"\"\"\n",
    "    def wrapper(\n",
    "        *args,\n",
    "        request_limit: int = 50,\n",
    "        feature_limit: int = None,\n",
    "        query_params: dict = {},\n",
    "        **kwargs\n",
    "    ):\n",
    "\n",
    "        query_params = query_params.copy()\n",
    "        if 'offset' in query_params:\n",
    "            raise AttributeError('offset is not a valid argument for functions using this decorator.')\n",
    "\n",
    "        items = list()\n",
    "\n",
    "        batch_count, final_batchsize = divmod(feature_limit, 100) if feature_limit else (None, None)\n",
    "        request_count = 0\n",
    "        offset = 0\n",
    "\n",
    "        if not(feature_limit) and not(request_limit):\n",
    "            raise AttributeError('At least one of feature_limit or request_limit must be provided to prevent indefinitely numerous requests and high costs. However, there is no upper limit to these values.')\n",
    "\n",
    "        while (request_count != request_limit) and (not(feature_limit) or offset < feature_limit):\n",
    "\n",
    "            if request_count == batch_count:\n",
    "                print('final batch of size', final_batchsize)\n",
    "                query_params['limit'] = final_batchsize\n",
    "            query_params['offset'] = offset\n",
    "\n",
    "            json_response = func(*args, query_params=query_params, **kwargs)\n",
    "            items += json_response['features']\n",
    "\n",
    "            if not [link for link in json_response['links'] if link['rel'] == 'next']:\n",
    "                break\n",
    "\n",
    "            request_count += 1\n",
    "            offset += 100\n",
    "\n",
    "        geojson = {\n",
    "            \"type\": \"FeatureCollection\",\n",
    "            \"numberOfRequests\": request_count,\n",
    "            \"totalNumberReturned\": len(items),\n",
    "            \"timeStamp\": datetime.now().isoformat(),\n",
    "            \"collection\": kwargs.get('collection'),\n",
    "            \"source\": \"Compiled from code by Geovation from Ordnance Survey\",\n",
    "            \"features\": items\n",
    "        }\n",
    "        return geojson\n",
    "\n",
    "    return wrapper"
   ]
  },
  {
   "cell_type": "code",
   "execution_count": null,
   "metadata": {},
   "outputs": [],
   "source": [
    "def multigeometry_search_extension(func: callable):\n",
    "\n",
    "    def wrapper(*args, wkt: str, **kwargs):\n",
    "\n",
    "        multi_geom = from_wkt(wkt) if type(wkt) == str else wkt\n",
    "        search_areas = list()\n",
    "\n",
    "        for search_area, geom in enumerate(multi_geom.geoms):\n",
    "            json_response = func(*args, wkt=geom, **kwargs)\n",
    "            json_response['serach_area'] = search_area\n",
    "            search_areas.append(json_response)\n",
    "\n",
    "        geojson = {\n",
    "            \"type\": \"FeatureCollection\",\n",
    "            \"searchAreas\": search_areas\n",
    "        }\n",
    "\n",
    "        return geojson\n",
    "\n",
    "    return wrapper"
   ]
  },
  {
   "cell_type": "code",
   "execution_count": null,
   "metadata": {},
   "outputs": [],
   "source": [
    "x=Polygon({(400000,400000), (400050,400000), (400050,400050), (400000,40050)})\n",
    "y=Polygon({(500000,500000), (500050,500000), (500050,500050), (500000,50050)})"
   ]
  },
  {
   "cell_type": "code",
   "execution_count": null,
   "metadata": {},
   "outputs": [],
   "source": [
    "z=MultiPolygon([x,y])"
   ]
  },
  {
   "cell_type": "code",
   "execution_count": null,
   "metadata": {},
   "outputs": [],
   "source": [
    "ngd_items_request_OAuth = OAauth2Manager(ngd_items_request)\n",
    "ngd_items_OAuth_muligeom = multigeometry_search_extension(ngd_items_request_OAuth)\n",
    "ngd_items_OAuth_all_features = feature_limit_extension(ngd_items_request_OAuth)"
   ]
  },
  {
   "cell_type": "code",
   "execution_count": null,
   "metadata": {},
   "outputs": [],
   "source": [
    "ngd_all_features = feature_limit_extension(ngd_items_request)\n",
    "ngd_all_features_OAuth = OAauth2Manager(ngd_all_features)"
   ]
  }
 ],
 "metadata": {
  "language_info": {
   "name": "python"
  }
 },
 "nbformat": 4,
 "nbformat_minor": 2
}
