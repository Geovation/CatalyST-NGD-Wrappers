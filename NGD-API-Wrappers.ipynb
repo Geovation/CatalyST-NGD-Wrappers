{
 "cells": [
  {
   "cell_type": "code",
   "execution_count": 1,
   "metadata": {},
   "outputs": [],
   "source": [
    "import requests as r\n",
    "import re\n",
    "import os\n",
    "import logging\n",
    "from datetime import datetime, timedelta\n",
    "from dotenv import load_dotenv\n",
    "import logging\n",
    "from shapely import from_wkt\n",
    "from shapely.geometry import Polygon, MultiPolygon"
   ]
  },
  {
   "cell_type": "code",
   "execution_count": 2,
   "metadata": {},
   "outputs": [
    {
     "data": {
      "text/plain": [
       "True"
      ]
     },
     "execution_count": 2,
     "metadata": {},
     "output_type": "execute_result"
    }
   ],
   "source": [
    "load_dotenv()"
   ]
  },
  {
   "cell_type": "code",
   "execution_count": 3,
   "metadata": {},
   "outputs": [],
   "source": [
    "def generic_request(url: str, headers: dict = {}, access_token: str = None, **kwargs) -> dict:\n",
    "\n",
    "    if access_token:\n",
    "        headers['Authorization'] = f\"Bearer {access_token}\"\n",
    "    response = r.get(url, headers=headers, **kwargs)\n",
    "    json_response = response.json()\n",
    "    if response.status_code >= 400:\n",
    "        raise Exception(json_response)\n",
    "\n",
    "    return json_response"
   ]
  },
  {
   "cell_type": "code",
   "execution_count": 4,
   "metadata": {},
   "outputs": [],
   "source": [
    "def get_access_token(client_id: str, client_secret: str) -> str:\n",
    "    '''\n",
    "    Supplies a temporary access token for of the OS NGD API\n",
    "    Times out after 5 minutes\n",
    "    Takes the project client_id and client_secret as input\n",
    "    '''\n",
    "\n",
    "    url = \"https://api.os.uk/oauth2/token/v1\"\n",
    "\n",
    "    data = {\n",
    "        \"grant_type\": \"client_credentials\"\n",
    "    }\n",
    "\n",
    "    response = r.post(\n",
    "        url, \n",
    "        auth=(client_id, client_secret),\n",
    "        data=data\n",
    "    )\n",
    "\n",
    "    json_response = response.json()\n",
    "    if response.status_code >= 400:\n",
    "        raise Exception(json_response)\n",
    "    token = json_response[\"access_token\"]\n",
    "\n",
    "    return token"
   ]
  },
  {
   "cell_type": "code",
   "execution_count": 5,
   "metadata": {},
   "outputs": [],
   "source": [
    "def OAauth2_manager(func: callable):\n",
    "\n",
    "    def wrapper(*args, **kwargs):\n",
    "\n",
    "        kwargs_ = kwargs.copy()\n",
    "\n",
    "        try:\n",
    "            access_token = os.environ.get('ACCESS_TOKEN')\n",
    "            kwargs_['access_token'] = access_token\n",
    "            return func(*args, **kwargs_)\n",
    "        except Exception:\n",
    "            client_id = os.environ.get('CLIENT_ID')\n",
    "            client_secret = os.environ.get('CLIENT_SECRET')\n",
    "            access_token = get_access_token(\n",
    "                client_id=client_id,\n",
    "                client_secret=client_secret\n",
    "            )\n",
    "            os.environ['ACCESS_TOKEN'] = access_token\n",
    "            kwargs_['access_token'] = access_token\n",
    "            return func(*args, **kwargs_)\n",
    "\n",
    "    wrapper.__name__ = func.__name__ + '+OAuth2_manager'\n",
    "    funcname = func.__name__\n",
    "    wrapper.__doc__ = f\"\"\"\n",
    "    An extension of the function {funcname} handling OAauth2 authorisation.\n",
    "    IMPORTANT:\n",
    "        CLIENT_ID and CLIENT_SECRET must be set as environment variables for this extension to work.\n",
    "        This can be done using a .env file and load_dotenv()\n",
    "    Docs for OAuth2 with Ordnance Survey data can be found at https://osdatahub.os.uk/docs/oauth2/overview\n",
    "    The function automatically ensures a valid temporary access token (expiring after 5 minutes) is being used. This will either be an existing valid token, or a newly called one.\n",
    "\n",
    "    ____________________________________________________\n",
    "    Docs for {funcname}:\n",
    "        {func.__doc__}\n",
    "    \"\"\"\n",
    "    return wrapper"
   ]
  },
  {
   "cell_type": "code",
   "execution_count": 6,
   "metadata": {},
   "outputs": [],
   "source": [
    "def wkt_to_spatial_filter(wkt, predicate='INTERSECTS'):\n",
    "    '''Constructs a full spatial filter in conformance with the OGC API - Features standard from well-known-text (wkt)\n",
    "    Currently, only 'Simple CQL' conformance is supported, therefore INTERSECTS is the only supported spatial predicate: https://portal.ogc.org/files/96288#rc_simple-cql'''\n",
    "    return f'({predicate}(geometry,{wkt}))'"
   ]
  },
  {
   "cell_type": "code",
   "execution_count": 7,
   "metadata": {},
   "outputs": [],
   "source": [
    "def construct_query_params(**params) -> str:\n",
    "    '''\n",
    "    Constructs a query string from a dictionary of key-value pairs.\n",
    "    Refer to https://osdatahub.os.uk/docs/ofa/technicalSpecification for details about query parameters.\n",
    "    The options are:\n",
    "        - bbox\n",
    "        - bbox-crs\n",
    "        - crs\n",
    "        - datetime\n",
    "        - filter\n",
    "        - filter-crs (can be supplied as a full http ref, or an integer)\n",
    "        - filter-lang\n",
    "        - limit\n",
    "        - offset\n",
    "    '''\n",
    "    filter_crs = params.get('filter-crs')\n",
    "    if type(filter_crs) == int:\n",
    "        params['filter-crs'] = f'http://www.opengis.net/def/crs/EPSG/0/{filter_crs}'\n",
    "    params_list = [f'{k}={v}' for k, v in params.items()]\n",
    "    return '?' + '&'.join(params_list)"
   ]
  },
  {
   "cell_type": "code",
   "execution_count": 8,
   "metadata": {},
   "outputs": [],
   "source": [
    "def construct_filter_param(**params):\n",
    "    '''Constructs a set of key=value parameters into a filter string for an API query'''\n",
    "    for k, v in params.items():\n",
    "        if type(v) == str:\n",
    "            params[k] = f\"'{v}'\"\n",
    "    filter_list = [f\"({k}={v})\" for k, v in params.items()]\n",
    "    return 'and'.join(filter_list)"
   ]
  },
  {
   "cell_type": "code",
   "execution_count": 9,
   "metadata": {},
   "outputs": [],
   "source": [
    "def ngd_items_request(\n",
    "    collection: str,\n",
    "    query_params: dict = {},\n",
    "    filter_params: dict = {},\n",
    "    wkt = None,\n",
    "    headers: dict = {},\n",
    "    access_token: str = None,\n",
    "    verbose: bool = False,\n",
    "    **kwargs\n",
    ") -> dict:\n",
    "    \"\"\"\n",
    "    Calls items from the OS NGD API - Features\n",
    "        - https://osdatahub.os.uk/docs/wfs/overview\n",
    "        - https://docs.os.uk/osngd/accessing-os-ngd/access-the-os-ngd-api/os-ngd-api-features\n",
    "    Parameters:\n",
    "        collection (str) - the feature collection to call from. Feature collection names and details can be found at https://api.os.uk/features/ngd/ofa/v1/collections/\n",
    "        query_params (dict, optional) - parameters to pass to the query as query parameters, supplied in a dictionary. Supported parameters are: bbox, bbox-crs, crs, datetime, filter, filter-crs, filter-lang, limit, offset\n",
    "        filter_params (dict, optional) - OS NGD attribute filters to pass to the query within the 'filter' query_param. The can be used instead of or in addition to manually setting the filter in query_params.\n",
    "            The key-value pairs will appended using the EQUAL TO [ = ] comparator. Any other CQL Operator comparisons must be set manually in query_params.\n",
    "            Queryable attributes can be found in OS NGD codelists documentation https://docs.os.uk/osngd/code-lists/code-lists-overview, or by inserting the relevant collectionId into the https://api.os.uk/features/ngd/ofa/v1/collections/{{collectionId}}/queryables endpoint.\n",
    "        wkt (string or shapely geometry object) - A means of searching a geometry for features. The search area(s) must be supplied in wkt, either in a string or as a Shapely geometry object.\n",
    "            The function automatically composes the full INTERSECTS filter and adds it to the 'filter' query parameter.\n",
    "            Make sure that 'filter-crs' is set to the appropriate value.\n",
    "        headers (dict, optional) - Headers to pass to the query. These can include bearer-token authentication.\n",
    "        access_token (str) - An access token, which will be added as bearer token to the headers.\n",
    "        **kwargs: other generic parameters to be passed to the requests.get()\n",
    "\n",
    "    Returns the features as a geojson, as per the OS NGD API.\n",
    "    \"\"\"\n",
    "\n",
    "    query_params_ = query_params.copy()\n",
    "    filter_params_ = filter_params.copy()\n",
    "    headers_ = headers.copy()\n",
    "\n",
    "    if filter_params_:\n",
    "        filters = construct_filter_param(**filter_params_)\n",
    "        current_filters = query_params_.get('filter')\n",
    "        query_params_['filter'] = f'({current_filters})and{filters}' if current_filters else filters\n",
    "\n",
    "    if wkt:\n",
    "        spatial_filter = wkt_to_spatial_filter(wkt)\n",
    "        current_filters = query_params_.get('filter')\n",
    "        query_params_['filter'] = f'({current_filters})and{spatial_filter}' if current_filters else spatial_filter\n",
    "\n",
    "    query_params_string = construct_query_params(**query_params_)\n",
    "    url = f'https://api.os.uk/features/ngd/ofa/v1/collections/{collection}/items/{query_params_string}'\n",
    "    if verbose:\n",
    "        print(url)\n",
    "    if access_token:\n",
    "        headers_['Authorization'] = f\"Bearer {access_token}\"\n",
    "    response = r.get(url, headers=headers_, **kwargs)\n",
    "    json_response = response.json()\n",
    "\n",
    "    if response.status_code >= 400:\n",
    "        raise Exception(json_response)\n",
    "\n",
    "    return json_response"
   ]
  },
  {
   "cell_type": "code",
   "execution_count": 10,
   "metadata": {},
   "outputs": [],
   "source": [
    "def feature_limit_extension(func: callable):\n",
    "\n",
    "    def wrapper(\n",
    "        *args,\n",
    "        request_limit: int = 50,\n",
    "        feature_limit: int = None,\n",
    "        query_params: dict = {},\n",
    "        **kwargs\n",
    "    ):\n",
    "\n",
    "        query_params_ = query_params.copy()\n",
    "\n",
    "        if 'offset' in query_params_:\n",
    "            raise AttributeError('offset is not a valid argument for functions using this decorator.')\n",
    "\n",
    "        items = list()\n",
    "\n",
    "        batch_count, final_batchsize = divmod(feature_limit, 100) if feature_limit else (None, None)\n",
    "        request_count = 0\n",
    "        offset = 0\n",
    "\n",
    "        if not(feature_limit) and not(request_limit):\n",
    "            raise AttributeError('At least one of feature_limit or request_limit must be provided to prevent indefinitely numerous requests and high costs. However, there is no upper limit to these values.')\n",
    "\n",
    "        while (request_count != request_limit) and (not(feature_limit) or offset < feature_limit):\n",
    "\n",
    "            if request_count == batch_count:\n",
    "                print('final batch of size', final_batchsize)\n",
    "                query_params_['limit'] = final_batchsize\n",
    "            query_params_['offset'] = offset\n",
    "\n",
    "            json_response = func(*args, query_params=query_params_, **kwargs)\n",
    "            request_count += 1\n",
    "            items += json_response['features']\n",
    "\n",
    "            if not [link for link in json_response['links'] if link['rel'] == 'next']:\n",
    "                break\n",
    "            \n",
    "            offset += 100\n",
    "\n",
    "        geojson = {\n",
    "            \"type\": \"FeatureCollection\",\n",
    "            \"numberOfRequests\": request_count,\n",
    "            \"totalNumberReturned\": len(items),\n",
    "            \"timeStamp\": datetime.now().isoformat(),\n",
    "            \"collection\": kwargs.get('collection'),\n",
    "            \"source\": \"Compiled from code by Geovation from Ordnance Survey\",\n",
    "            \"features\": items\n",
    "        }\n",
    "        return geojson\n",
    "\n",
    "    wrapper.__name__ = func.__name__ + '+feature_limit_extension'\n",
    "    funcname = func.__name__\n",
    "    wrapper.__doc__ = f\"\"\"\n",
    "    This is an extension the {funcname} function, which returns OS NGD features. It serves to extend the maximum number of features returned above the default maximum 100 by looping through multiple requests.\n",
    "    It takes the following arguments:\n",
    "    - collection: The name of the collection to be queried.\n",
    "    - request_limit: The maximum number of calls to be made to {funcname}. Default is 50.\n",
    "    - feature_limit: The maximum number of features to be returned. Default is None.\n",
    "    - query_params: A dictionary of query parameters to be passed to the function. Default is an empty dictionary.\n",
    "    To prevent indefinite requests and high costs, at least one of feature_limit or request_limit must be provided, although there is no limit to the upper value these can be.\n",
    "    It will make multiple requests to the function to compile all features from the specified collection, returning a dictionary with the features and metadata.\n",
    "\n",
    "    ____________________________________________________\n",
    "    Docs for {funcname}:\n",
    "        {func.__doc__}\n",
    "    \"\"\"\n",
    "    return wrapper"
   ]
  },
  {
   "cell_type": "code",
   "execution_count": 11,
   "metadata": {},
   "outputs": [],
   "source": [
    "def multigeometry_search_extension(func: callable):\n",
    "\n",
    "    def wrapper(*args, wkt: str, **kwargs):\n",
    "\n",
    "        multi_geom = from_wkt(wkt) if type(wkt) == str else wkt\n",
    "        search_areas = list()\n",
    "\n",
    "        for search_area, geom in enumerate(multi_geom.geoms):\n",
    "            json_response = func(*args, wkt=geom, **kwargs)\n",
    "            json_response['searchAreaNumber'] = search_area\n",
    "            search_areas.append(json_response)\n",
    "\n",
    "        geojson = {\n",
    "            \"type\": \"FeatureCollection\",\n",
    "            \"searchAreas\": search_areas\n",
    "        }\n",
    "\n",
    "        return geojson\n",
    "\n",
    "    wrapper.__name__ = func.__name__ + '+multigeometry_search_extension'\n",
    "    funcname = func.__name__\n",
    "    wrapper.__doc__ = f\"\"\"\n",
    "    An alternative means of returning OS NGD features for a search area which is a Multi-Geometry (MultiPoint, MultiLinestring, or MultiPolygon), which will in some cases improve speed, performance, and prevent the call from timing out.\n",
    "    Extends to {funcname} function.\n",
    "    Each component shape of the multi-geometry will be searched in turn using the {funcname} function.\n",
    "    The results are returned in a quasi-GeoJSON format, with features returned under 'searchAreas' in a list, where each item is a json object of results from one search area.\n",
    "    The search areas are labelled numerically, with the number stored under 'searchAreaNumber'.\n",
    "    NOTE: If a limit is supplied for the maximum number of features to be returned or requests to be made, this will apply to each search area individually, not to the overall number of results.\n",
    "\n",
    "    ____________________________________________________\n",
    "    Docs for {funcname}:\n",
    "        {func.__doc__}\n",
    "    \"\"\"\n",
    "    return wrapper"
   ]
  },
  {
   "cell_type": "code",
   "execution_count": 12,
   "metadata": {},
   "outputs": [],
   "source": [
    "def multiple_collections_extension(func: callable) -> dict:\n",
    "\n",
    "    def wrapper(collections: list[str], *args, **kwargs):\n",
    "\n",
    "        results = dict()\n",
    "        for c in collections:\n",
    "            json_response = func(c, *args, **kwargs)\n",
    "            results[c] = json_response\n",
    "        return results\n",
    "    \n",
    "    wrapper.__name__ = func.__name__ + '+multiple_collections_extension'\n",
    "    funcname = func.__name__\n",
    "    wrapper.__doc__ = f\"\"\"\n",
    "    Extents the {funcname} function to handle multiple collections.\n",
    "    Takes a list of collection names as input, alongside any other parameters which are passed to {funcname}.\n",
    "    The function {funcname} will be run for each collection in turn, with the results returned in a dictionary mapping the collection names to the results.\n",
    "    NOTE: If a limit is supplied for the maximum number of features to be returned or requests to be made, this will apply to each collection individually, not to the overall number of results.\n",
    "\n",
    "    ____________________________________________________\n",
    "    Docs for {funcname}:\n",
    "        {func.__doc__}\n",
    "    \"\"\"\n",
    "    return wrapper"
   ]
  },
  {
   "cell_type": "code",
   "execution_count": 13,
   "metadata": {},
   "outputs": [],
   "source": [
    "def get_latest_collection_versions(flag_recent_updates: bool = True, recent_update_days: int = 31) -> tuple[dict[str: str], list[str]]:\n",
    "    '''\n",
    "    Returns the latest collection versions of each NGD collection.\n",
    "    Feature collections follow the following naming convention: theme-collection-featuretype-version (eg. bld-fts-buildingline-2)\n",
    "    The output of this function maps base feature collection names (theme-collection-featuretype) to the full name, including the latest version.\n",
    "    This can be used to ensure that software is always using the latest version of a feature collection.\n",
    "    More details on feature collection naming can be found at https://docs.os.uk/osngd/accessing-os-ngd/access-the-os-ngd-api/os-ngd-api-features/what-data-is-available\n",
    "    '''\n",
    "\n",
    "    response = r.get('https://api.os.uk/features/ngd/ofa/v1/collections/')\n",
    "    collections_data = response.json()['collections']\n",
    "    collections_list = [collection['id'] for collection in collections_data]\n",
    "    collection_base_names = set([re.sub(r'-\\d+$', '', c) for c in collections_list])\n",
    "    output_lookup = dict()\n",
    "\n",
    "    for base_name in collection_base_names:\n",
    "        all_versions = [c for c in collections_list if c.startswith(base_name)]\n",
    "        latest_version = max(all_versions, key=lambda c: int(c.split('-')[-1]))\n",
    "        output_lookup[base_name] = latest_version\n",
    "\n",
    "    recent_collections = None\n",
    "    if flag_recent_updates:\n",
    "        time_format = r'%Y-%m-%dT%H:%M:%SZ'\n",
    "        recent_update_cutoff = datetime.now() - timedelta(days=recent_update_days)\n",
    "        latest_versions_data = [c for c in collections_data if c['id'] in output_lookup.values()]\n",
    "        recent_collections = list()\n",
    "        for collection_data in latest_versions_data:\n",
    "            version_startdate = collection_data['extent']['temporal']['interval'][0][0]\n",
    "            time_obj = datetime.strptime(version_startdate, time_format)\n",
    "            if time_obj > recent_update_cutoff:\n",
    "                collection = collection_data['id']\n",
    "                recent_collections.append(collection)\n",
    "                logging.warning(f'{collection} is a recent version/update from the last {recent_update_days} days.')\n",
    "\n",
    "    return output_lookup, recent_collections"
   ]
  },
  {
   "cell_type": "code",
   "execution_count": 14,
   "metadata": {},
   "outputs": [],
   "source": [
    "def get_single_latest_collection(collection: str, **kwargs) -> str:\n",
    "    '''\n",
    "    Returns the latest collection of a given collection base.\n",
    "    Input must be in the format theme-collection-featuretype (eg. bld-fts-buildingline)\n",
    "    Output will complete the full name of the feature collection by appending the latest version number (eg. bld-fts-buildingline-2)\n",
    "    More details on feature collection naming can be found at https://docs.os.uk/osngd/accessing-os-ngd/access-the-os-ngd-api/os-ngd-api-features/what-data-is-available\n",
    "    '''\n",
    "    latest_collections = get_latest_collection_versions(**kwargs)\n",
    "    latest_collection = latest_collections[collection]\n",
    "    return latest_collection"
   ]
  },
  {
   "cell_type": "code",
   "execution_count": null,
   "metadata": {},
   "outputs": [],
   "source": [
    "def comprehensive_enum_search(search_vals: str | list):\n",
    "\n",
    "    if type(search_vals) == str:\n",
    "        search_vals = [search_vals]\n",
    "    search_vals = [sv.upper() for sv in search_vals]\n",
    "\n",
    "    latest_versions = get_latest_collection_versions()\n",
    "    latest_versions_list = list(latest_versions[0].values())\n",
    "\n",
    "    output = dict()\n",
    "\n",
    "    for collection in latest_versions_list:\n",
    "\n",
    "        queryables = r.get(f'https://api.os.uk/features/ngd/ofa/v1/collections/{collection}/queryables').json()\n",
    "        properties = queryables['properties']\n",
    "\n",
    "        for attribute, data in properties.items():\n",
    "\n",
    "            type_ = data['type'][0]\n",
    "            if type_ == 'string':\n",
    "                enum = data.get('enum')\n",
    "                if not(enum):\n",
    "                    continue\n",
    "                matches = list()\n",
    "                for sv in search_vals:\n",
    "                    matches += [val for val in enum if sv in val.upper()]\n",
    "                if matches:\n",
    "                    output[collection] = output.get(collection, {})\n",
    "                    output[collection][attribute] = matches\n",
    "\n",
    "            elif type_ == 'array':\n",
    "                items = data.get('items')\n",
    "                if not(items):\n",
    "                    continue\n",
    "                enum = items.get('enum')\n",
    "                if not(enum):\n",
    "                    continue\n",
    "                matches = list()\n",
    "                for sv in search_vals:\n",
    "                    matches += [val for val in enum if sv in val.upper()]\n",
    "                if matches:\n",
    "                    output[collection] = output.get(collection, {})\n",
    "                    output[collection][attribute] = {'array':matches}\n",
    "\n",
    "    return output"
   ]
  },
  {
   "cell_type": "code",
   "execution_count": 35,
   "metadata": {},
   "outputs": [],
   "source": [
    "pilons = comprehensive_enum_search(['electricity','power','substation'])"
   ]
  },
  {
   "cell_type": "code",
   "execution_count": 37,
   "metadata": {},
   "outputs": [
    {
     "data": {
      "text/plain": [
       "{'bld-fts-buildingpart-2': {'oslandusetierb': {'array': ['Electricity Distribution']}},\n",
       " 'bld-fts-building-3': {'description': ['Electricity Distribution Facility',\n",
       "   'Electricity Storage Facility',\n",
       "   'Electricity Sub Station',\n",
       "   'Biogas Power Station',\n",
       "   'Hydroelectric Power Generating',\n",
       "   'Power Station',\n",
       "   'Solar Power Facility',\n",
       "   'Tidal Power Station']},\n",
       " 'trn-fts-roadtrackorpath-3': {'oslandusetierb': {'array': ['Electricity Distribution']}},\n",
       " 'trn-fts-rail-3': {'oslandusetierb': {'array': ['Electricity Distribution']}},\n",
       " 'lnd-fts-land-3': {'oslandusetierb': {'array': ['Electricity Distribution']}},\n",
       " 'wtr-fts-water-3': {'oslandusetierb': {'array': ['Electricity Distribution']}},\n",
       " 'str-fts-structure-3': {'description': ['Electricity Metal Monopole',\n",
       "   'Electricity Pylon'],\n",
       "  'oslandusetierb': {'array': ['Electricity Distribution']}},\n",
       " 'str-fts-structureline-1': {'description': ['Electricity Transmission Lines']},\n",
       " 'lus-fts-site-2': {'description': ['Electricity Distribution Site',\n",
       "   'Electricity Storage Site',\n",
       "   'Electricity Sub Station',\n",
       "   'Biogas Power Station',\n",
       "   'Hydroelectric Power Generating',\n",
       "   'Power Station',\n",
       "   'Solar Power Site',\n",
       "   'Tidal Power Station'],\n",
       "  'oslandusetierb': {'array': ['Electricity Distribution']}},\n",
       " 'str-fts-structurepoint-1': {'description': ['Electricity Sub Station',\n",
       "   'Electricity Support Pole',\n",
       "   'Electricity Support Poles']}}"
      ]
     },
     "execution_count": 37,
     "metadata": {},
     "output_type": "execute_result"
    }
   ],
   "source": [
    "pilons"
   ]
  },
  {
   "cell_type": "code",
   "execution_count": null,
   "metadata": {},
   "outputs": [],
   "source": [
    "from shapely.geometry import LineString, GeometryCollection"
   ]
  },
  {
   "cell_type": "code",
   "execution_count": null,
   "metadata": {},
   "outputs": [],
   "source": [
    "x=Polygon({(400000,400000), (400050,400000), (400050,400050), (400000,40050)})\n",
    "y=Polygon({(500000,500000), (500050,500000), (500050,500050), (500000,50050)})"
   ]
  },
  {
   "cell_type": "code",
   "execution_count": null,
   "metadata": {},
   "outputs": [],
   "source": [
    "l = LineString([(399990,399990),(399970,399970)])"
   ]
  },
  {
   "cell_type": "code",
   "execution_count": null,
   "metadata": {},
   "outputs": [],
   "source": [
    "geomcollect = GeometryCollection([x,l])"
   ]
  },
  {
   "cell_type": "code",
   "execution_count": null,
   "metadata": {},
   "outputs": [],
   "source": [
    "z=MultiPolygon([x,y])"
   ]
  },
  {
   "cell_type": "code",
   "execution_count": null,
   "metadata": {},
   "outputs": [
    {
     "name": "stdout",
     "output_type": "stream",
     "text": [
      "GEOMETRYCOLLECTION (POLYGON ((400000 400000, 400050 400050, 400050 400000, 400000 40050, 400000 400000)), LINESTRING (399990 399990, 399970 399970))\n"
     ]
    }
   ],
   "source": [
    "print(geomcollect)"
   ]
  },
  {
   "cell_type": "markdown",
   "metadata": {},
   "source": [
    "# Example Ways of Building Custom APIs by Combining Wrappers"
   ]
  },
  {
   "cell_type": "markdown",
   "metadata": {},
   "source": [
    "#### All possible combos with OAuth2"
   ]
  },
  {
   "cell_type": "code",
   "execution_count": null,
   "metadata": {},
   "outputs": [],
   "source": [
    "items_auth = OAauth2_manager(ngd_items_request)\n",
    "items_auth_limit = feature_limit_extension(items_auth)\n",
    "items_auth_limit_geom = multigeometry_search_extension(items_auth_limit)\n",
    "items_auth_limit_geom_col = multiple_collections_extension(items_auth_limit_geom)\n",
    "\n",
    "items_auth_geom = multigeometry_search_extension(items_auth)\n",
    "items_auth_geom_col = multiple_collections_extension(items_auth_geom)\n",
    "\n",
    "items_auth_limit_col = multiple_collections_extension(items_auth_limit)\n",
    "\n",
    "items_auth_col = multiple_collections_extension(items_auth)\n"
   ]
  },
  {
   "cell_type": "markdown",
   "metadata": {},
   "source": [
    "## Demos"
   ]
  },
  {
   "cell_type": "code",
   "execution_count": null,
   "metadata": {},
   "outputs": [
    {
     "name": "stdout",
     "output_type": "stream",
     "text": [
      "https://api.os.uk/features/ngd/ofa/v1/collections/lnd-fts-land-3/items/?filter-crs=http://www.opengis.net/def/crs/EPSG/0/27700&offset=0&filter=(INTERSECTS(geometry,POLYGON ((400000 400000, 400050 400050, 400050 400000, 400000 40050, 400000 400000))))\n",
      "https://api.os.uk/features/ngd/ofa/v1/collections/lnd-fts-land-3/items/?filter-crs=http://www.opengis.net/def/crs/EPSG/0/27700&offset=0&filter=(INTERSECTS(geometry,POLYGON ((400000 400000, 400050 400050, 400050 400000, 400000 40050, 400000 400000))))\n",
      "https://api.os.uk/features/ngd/ofa/v1/collections/lnd-fts-land-3/items/?filter-crs=http://www.opengis.net/def/crs/EPSG/0/27700&offset=100&filter=(INTERSECTS(geometry,POLYGON ((400000 400000, 400050 400050, 400050 400000, 400000 40050, 400000 400000))))\n",
      "https://api.os.uk/features/ngd/ofa/v1/collections/lnd-fts-land-3/items/?filter-crs=http://www.opengis.net/def/crs/EPSG/0/27700&offset=200&filter=(INTERSECTS(geometry,POLYGON ((400000 400000, 400050 400050, 400050 400000, 400000 40050, 400000 400000))))\n",
      "https://api.os.uk/features/ngd/ofa/v1/collections/lnd-fts-land-3/items/?filter-crs=http://www.opengis.net/def/crs/EPSG/0/27700&offset=0&filter=(INTERSECTS(geometry,LINESTRING (399990 399990, 399970 399970)))\n",
      "https://api.os.uk/features/ngd/ofa/v1/collections/wtr-fts-water-1/items/?filter-crs=http://www.opengis.net/def/crs/EPSG/0/27700&offset=0&filter=(INTERSECTS(geometry,POLYGON ((400000 400000, 400050 400050, 400050 400000, 400000 40050, 400000 400000))))\n",
      "https://api.os.uk/features/ngd/ofa/v1/collections/wtr-fts-water-1/items/?filter-crs=http://www.opengis.net/def/crs/EPSG/0/27700&offset=100&filter=(INTERSECTS(geometry,POLYGON ((400000 400000, 400050 400050, 400050 400000, 400000 40050, 400000 400000))))\n",
      "https://api.os.uk/features/ngd/ofa/v1/collections/wtr-fts-water-1/items/?filter-crs=http://www.opengis.net/def/crs/EPSG/0/27700&offset=200&filter=(INTERSECTS(geometry,POLYGON ((400000 400000, 400050 400050, 400050 400000, 400000 40050, 400000 400000))))\n",
      "https://api.os.uk/features/ngd/ofa/v1/collections/wtr-fts-water-1/items/?filter-crs=http://www.opengis.net/def/crs/EPSG/0/27700&offset=0&filter=(INTERSECTS(geometry,LINESTRING (399990 399990, 399970 399970)))\n",
      "https://api.os.uk/features/ngd/ofa/v1/collections/bld-fts-building-3/items/?filter-crs=http://www.opengis.net/def/crs/EPSG/0/27700&offset=0&filter=(INTERSECTS(geometry,POLYGON ((400000 400000, 400050 400050, 400050 400000, 400000 40050, 400000 400000))))\n",
      "https://api.os.uk/features/ngd/ofa/v1/collections/bld-fts-building-3/items/?filter-crs=http://www.opengis.net/def/crs/EPSG/0/27700&offset=100&filter=(INTERSECTS(geometry,POLYGON ((400000 400000, 400050 400050, 400050 400000, 400000 40050, 400000 400000))))\n",
      "https://api.os.uk/features/ngd/ofa/v1/collections/bld-fts-building-3/items/?filter-crs=http://www.opengis.net/def/crs/EPSG/0/27700&offset=200&filter=(INTERSECTS(geometry,POLYGON ((400000 400000, 400050 400050, 400050 400000, 400000 40050, 400000 400000))))\n",
      "https://api.os.uk/features/ngd/ofa/v1/collections/bld-fts-building-3/items/?filter-crs=http://www.opengis.net/def/crs/EPSG/0/27700&offset=0&filter=(INTERSECTS(geometry,LINESTRING (399990 399990, 399970 399970)))\n"
     ]
    }
   ],
   "source": [
    "everything_test = items_auth_limit_geom_col(\n",
    "    collections=['lnd-fts-land-3','wtr-fts-water-1','bld-fts-building-3'],\n",
    "    query_params={'filter-crs':27700},\n",
    "    request_limit=3,\n",
    "    verbose=True\n",
    ")"
   ]
  },
  {
   "cell_type": "markdown",
   "metadata": {},
   "source": []
  }
 ],
 "metadata": {
  "kernelspec": {
   "display_name": ".venv",
   "language": "python",
   "name": "python3"
  },
  "language_info": {
   "codemirror_mode": {
    "name": "ipython",
    "version": 3
   },
   "file_extension": ".py",
   "mimetype": "text/x-python",
   "name": "python",
   "nbconvert_exporter": "python",
   "pygments_lexer": "ipython3",
   "version": "3.12.7"
  }
 },
 "nbformat": 4,
 "nbformat_minor": 2
}
