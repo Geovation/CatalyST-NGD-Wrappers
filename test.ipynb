{
 "cells": [
  {
   "cell_type": "code",
   "execution_count": 37,
   "metadata": {},
   "outputs": [],
   "source": [
    "data_ = {'features':[\n",
    "    {'id':1,'searchAreaNumber':5},\n",
    "    {'id':2,'searchAreaNumber':5},\n",
    "    {'id':9,'searchAreaNumber':5},\n",
    "    {'id':3,'searchAreaNumber':6},\n",
    "    {'id':1,'searchAreaNumber':6},\n",
    "    {'id':2,'searchAreaNumber':6},\n",
    "    {'id':1,'searchAreaNumber':7},\n",
    "    {'id':4,'searchAreaNumber':8},\n",
    "    \n",
    "]}"
   ]
  },
  {
   "cell_type": "code",
   "execution_count": 39,
   "metadata": {},
   "outputs": [],
   "source": [
    "x = data_['features'][4]['id']"
   ]
  },
  {
   "cell_type": "code",
   "execution_count": 44,
   "metadata": {},
   "outputs": [
    {
     "data": {
      "text/plain": [
       "True"
      ]
     },
     "execution_count": 44,
     "metadata": {},
     "output_type": "execute_result"
    }
   ],
   "source": [
    "type([]) == list"
   ]
  },
  {
   "cell_type": "code",
   "execution_count": 41,
   "metadata": {},
   "outputs": [],
   "source": [
    "x += 2"
   ]
  },
  {
   "cell_type": "code",
   "execution_count": 36,
   "metadata": {},
   "outputs": [
    {
     "ename": "TypeError",
     "evalue": "'filter' object is not subscriptable",
     "output_type": "error",
     "traceback": [
      "\u001b[0;31m---------------------------------------------------------------------------\u001b[0m",
      "\u001b[0;31mTypeError\u001b[0m                                 Traceback (most recent call last)",
      "Cell \u001b[0;32mIn[36], line 3\u001b[0m\n\u001b[1;32m      1\u001b[0m list_ \u001b[38;5;241m=\u001b[39m [\u001b[38;5;241m1\u001b[39m,\u001b[38;5;241m2\u001b[39m,\u001b[38;5;241m3\u001b[39m,\u001b[38;5;241m4\u001b[39m,\u001b[38;5;241m5\u001b[39m,\u001b[38;5;241m56\u001b[39m]\n\u001b[0;32m----> 3\u001b[0m \u001b[38;5;28;43mfilter\u001b[39;49m\u001b[43m(\u001b[49m\u001b[38;5;28;43;01mlambda\u001b[39;49;00m\u001b[43m \u001b[49m\u001b[43mx\u001b[49m\u001b[43m:\u001b[49m\u001b[43m \u001b[49m\u001b[43mx\u001b[49m\u001b[38;5;241;43m>\u001b[39;49m\u001b[38;5;241;43m3\u001b[39;49m\u001b[43m,\u001b[49m\u001b[43m \u001b[49m\u001b[43mlist_\u001b[49m\u001b[43m)\u001b[49m\u001b[43m[\u001b[49m\u001b[38;5;241;43m0\u001b[39;49m\u001b[43m]\u001b[49m\n",
      "\u001b[0;31mTypeError\u001b[0m: 'filter' object is not subscriptable"
     ]
    }
   ],
   "source": [
    "list_ = [1,2,3,4,5,56]\n",
    "\n",
    "filter(lambda x: x>3, list_)[0]"
   ]
  },
  {
   "cell_type": "code",
   "execution_count": 30,
   "metadata": {},
   "outputs": [],
   "source": [
    "fts = data_['features']"
   ]
  },
  {
   "cell_type": "code",
   "execution_count": 17,
   "metadata": {},
   "outputs": [],
   "source": [
    "ids = [f['id'] for f in data_['features']]"
   ]
  },
  {
   "cell_type": "code",
   "execution_count": 46,
   "metadata": {},
   "outputs": [],
   "source": [
    "import geopandas as gpd"
   ]
  },
  {
   "cell_type": "code",
   "execution_count": 64,
   "metadata": {},
   "outputs": [
    {
     "data": {
      "image/svg+xml": [
       "<svg xmlns=\"http://www.w3.org/2000/svg\" xmlns:xlink=\"http://www.w3.org/1999/xlink\" width=\"300\" height=\"300\" viewBox=\"526831.48 179039.48 1850.0400000000373 1628.039999999979\" preserveAspectRatio=\"xMinYMin meet\"><g transform=\"matrix(1,0,0,-1,0,359707.0)\"><g><path fill-rule=\"evenodd\" fill=\"#ff3333\" stroke=\"#555555\" stroke-width=\"12.333600000000247\" opacity=\"0.6\" d=\"M 527818.0,179108.0 L 526900.0,179728.0 L 528100.0,180586.0 L 528613.0,180076.0 L 527818.0,179108.0 z\" /><path fill-rule=\"evenodd\" fill=\"#ff3333\" stroke=\"#555555\" stroke-width=\"12.333600000000247\" opacity=\"0.6\" d=\"M 527818.0,179108.0 L 526933.0,179728.0 L 528111.0,180599.0 L 528613.0,180099.0 L 527818.0,179108.0 z\" /><path fill-rule=\"evenodd\" fill=\"#ff3333\" stroke=\"#555555\" stroke-width=\"12.333600000000247\" opacity=\"0.6\" d=\"M 527818.0,179108.0 L 527819.0,179108.0 L 527819.0,179108.0 L 527818.0,179109.0 L 527818.0,179108.0 z\" /></g></g></svg>"
      ],
      "text/plain": [
       "<MULTIPOLYGON (((527818 179108, 526900 179728, 528100 180586, 528613 180076,...>"
      ]
     },
     "execution_count": 64,
     "metadata": {},
     "output_type": "execute_result"
    }
   ],
   "source": [
    "from shapely import from_wkt\n",
    "from_wkt(\"\"\"MULTIPOLYGON (((527818 179108, 526900 179728, 528100 180586, 528613 180076, 527818 179108)), ((527818 179108, 526933 179728, 528111 180599, 528613 180099, 527818 179108)), ((527818 179108, 527819 179108, 527819 179108, 527818 179109, 527818 179108)))\"\"\")"
   ]
  },
  {
   "cell_type": "code",
   "execution_count": 94,
   "metadata": {},
   "outputs": [],
   "source": [
    "from shapely import Polygon, MultiPolygon"
   ]
  },
  {
   "cell_type": "code",
   "execution_count": 100,
   "metadata": {},
   "outputs": [
    {
     "name": "stdout",
     "output_type": "stream",
     "text": [
      "MULTIPOLYGON (((530759.9243908112 179772.0638669614, 528518.4197635911 179927.21543379698, 528521.7212965463 179953.6251063514, 528716.4940754961 180154.999271387, 530769.8319819589 180079.07629128947, 530759.9243908112 179772.0638669614)), ((528110.7573008663 180585.64404829685, 528613.2837145862 180075.71885246038, 527817.5939129539 179107.59654347308, 526933.2415698207 179728.37404192012, 528110.7573008663 180585.64404829685)), ((528213.5566859698 180153.12132334424, 529004.6193501777 180466.49108344124, 529004.6193001379 180462.6695243995, 528844.0995482615 179277.98587885255, 527930.7581659885 179805.35874219215, 528213.5566859698 180153.12132334424)))\n"
     ]
    }
   ],
   "source": [
    "print(MultiPolygon(list(gpd.read_file('input.gpkg').geometry.to_crs(27700).set_precision(0).apply(lambda x: list(x.geoms)))))"
   ]
  },
  {
   "cell_type": "code",
   "execution_count": 67,
   "metadata": {},
   "outputs": [
    {
     "data": {
      "image/svg+xml": [
       "<svg xmlns=\"http://www.w3.org/2000/svg\" xmlns:xlink=\"http://www.w3.org/1999/xlink\" width=\"300\" height=\"300\" viewBox=\"526831.48 179039.48 1850.0400000000373 1628.039999999979\" preserveAspectRatio=\"xMinYMin meet\"><g transform=\"matrix(1,0,0,-1,0,359707.0)\"><g><path fill-rule=\"evenodd\" fill=\"#ff3333\" stroke=\"#555555\" stroke-width=\"12.333600000000247\" opacity=\"0.6\" d=\"M 527818.0,179108.0 L 526900.0,179728.0 L 528100.0,180586.0 L 528613.0,180076.0 L 527818.0,179108.0 z\" /><path fill-rule=\"evenodd\" fill=\"#ff3333\" stroke=\"#555555\" stroke-width=\"12.333600000000247\" opacity=\"0.6\" d=\"M 527818.0,179108.0 L 526933.0,179728.0 L 528111.0,180599.0 L 528613.0,180099.0 L 527818.0,179108.0 z\" /></g></g></svg>"
      ],
      "text/plain": [
       "<MULTIPOLYGON (((527818 179108, 526900 179728, 528100 180586, 528613 180076,...>"
      ]
     },
     "execution_count": 67,
     "metadata": {},
     "output_type": "execute_result"
    }
   ],
   "source": [
    "from shapely import from_wkt\n",
    "from_wkt(\"\"\"MULTIPOLYGON (((527818 179108, 526900 179728, 528100 180586, 528613 180076, 527818 179108)), ((527818 179108, 526933 179728, 528111 180599, 528613 180099, 527818 179108)))\"\"\")"
   ]
  },
  {
   "cell_type": "code",
   "execution_count": 68,
   "metadata": {},
   "outputs": [
    {
     "data": {
      "image/svg+xml": [
       "<svg xmlns=\"http://www.w3.org/2000/svg\" xmlns:xlink=\"http://www.w3.org/1999/xlink\" width=\"300\" height=\"300\" viewBox=\"526931.48 179039.48 1850.0400000000373 1628.039999999979\" preserveAspectRatio=\"xMinYMin meet\"><g transform=\"matrix(1,0,0,-1,0,359707.0)\"><g><path fill-rule=\"evenodd\" fill=\"#ff3333\" stroke=\"#555555\" stroke-width=\"12.333600000000247\" opacity=\"0.6\" d=\"M 527918.0,179108.0 L 527000.0,179728.0 L 528200.0,180586.0 L 528713.0,180076.0 L 527918.0,179108.0 z\" /><path fill-rule=\"evenodd\" fill=\"#ff3333\" stroke=\"#555555\" stroke-width=\"12.333600000000247\" opacity=\"0.6\" d=\"M 527918.0,179108.0 L 527033.0,179728.0 L 528211.0,180599.0 L 528713.0,180099.0 L 527918.0,179108.0 z\" /></g></g></svg>"
      ],
      "text/plain": [
       "<MULTIPOLYGON (((527918 179108, 527000 179728, 528200 180586, 528713 180076,...>"
      ]
     },
     "execution_count": 68,
     "metadata": {},
     "output_type": "execute_result"
    }
   ],
   "source": [
    "translate(from_wkt(\"\"\"MULTIPOLYGON (((527818 179108, 526900 179728, 528100 180586, 528613 180076, 527818 179108)), ((527818 179108, 526933 179728, 528111 180599, 528613 180099, 527818 179108)))\"\"\"), 100)"
   ]
  },
  {
   "cell_type": "code",
   "execution_count": 10,
   "metadata": {},
   "outputs": [
    {
     "data": {
      "text/plain": [
       "2"
      ]
     },
     "execution_count": 10,
     "metadata": {},
     "output_type": "execute_result"
    }
   ],
   "source": [
    "for id in list1:\n",
    "    if list2.count(id) == 1:\n",
    "        continue\n",
    "    to_drop = list()\n",
    "    for k, v in enumerate(list2):\n",
    "        if k == id:\n",
    "            to_drop.append(v)\n",
    "    list2."
   ]
  },
  {
   "cell_type": "code",
   "execution_count": 9,
   "metadata": {},
   "outputs": [],
   "source": [
    "def remove_dups(data):\n",
    "    ids = [f['id'] for f in data['features']]\n",
    "    unique_ids = set(ids)\n",
    "    if len(unique_ids) == len(ids):\n",
    "        return\n",
    "    for id in unique_ids:\n",
    "        if ids.count(id) == 1:\n",
    "            continue\n",
    "        search_areas = [f['searchAreaNumber'] for f in data['features'] if f['id'] == id]\n",
    "        \n"
   ]
  },
  {
   "cell_type": "code",
   "execution_count": 8,
   "metadata": {},
   "outputs": [
    {
     "data": {
      "text/plain": [
       "True"
      ]
     },
     "execution_count": 8,
     "metadata": {},
     "output_type": "execute_result"
    }
   ],
   "source": [
    "len(set(ids)) != len(ids)"
   ]
  },
  {
   "cell_type": "code",
   "execution_count": 65,
   "metadata": {},
   "outputs": [],
   "source": [
    "from shapely.affinity import translate"
   ]
  }
 ],
 "metadata": {
  "kernelspec": {
   "display_name": ".venv",
   "language": "python",
   "name": "python3"
  },
  "language_info": {
   "codemirror_mode": {
    "name": "ipython",
    "version": 3
   },
   "file_extension": ".py",
   "mimetype": "text/x-python",
   "name": "python",
   "nbconvert_exporter": "python",
   "pygments_lexer": "ipython3",
   "version": "3.12.7"
  }
 },
 "nbformat": 4,
 "nbformat_minor": 2
}
